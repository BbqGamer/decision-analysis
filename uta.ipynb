{
 "cells": [
  {
   "cell_type": "code",
   "execution_count": null,
   "metadata": {},
   "outputs": [],
   "source": [
    "import csv\n",
    "import numpy as np\n",
    "import pandas as pd\n",
    "\n",
    "header = []\n",
    "ids = []\n",
    "data = []\n",
    "with open(\"data.csv\", \"r\") as f:\n",
    "    reader = csv.reader(f)\n",
    "    header = next(reader)[1:]\n",
    "    for row in reader:\n",
    "        name = row[0]\n",
    "        ids.append(name)\n",
    "        data.append(list(map(float, row[1:])))\n",
    "\n",
    "df = pd.DataFrame(data, columns=header)\n",
    "df['name'] = ids\n",
    "df = df.set_index('name')\n",
    "df"
   ]
  },
  {
   "cell_type": "markdown",
   "metadata": {},
   "source": [
    "All the criteria are gain criteria except **weight** and **price**"
   ]
  },
  {
   "cell_type": "code",
   "execution_count": null,
   "metadata": {},
   "outputs": [],
   "source": [
    "GAIN = 0\n",
    "COST = 1\n",
    "criteria_types = [GAIN, GAIN, GAIN, GAIN, GAIN, COST, COST]"
   ]
  },
  {
   "cell_type": "markdown",
   "metadata": {},
   "source": [
    "# Preferencial information\n",
    "\n",
    "List of pairwise comparisons prepared in the previous project, enriched with additional pairwise comparisons. We have added two cycles to introduce some inconsistency into data.\n",
    "\n",
    "- \\> means preference\n",
    "- ~ means indifference"
   ]
  },
  {
   "cell_type": "code",
   "execution_count": null,
   "metadata": {},
   "outputs": [],
   "source": [
    "preferences = [\n",
    "    ('Samsung Galaxy S22 Ultra', '>', 'Pixel 7'),\n",
    "    ('Samsung Galaxy S22 Ultra' , '>', 'Samsung S24+'),\n",
    "    ('Pixel 7', '>', 'Pixel 8'),\n",
    "    ('Samsung S24 Ultra', '~', 'iPhone 15 Pro Max'),\n",
    "    ('Samsung S23 FE', '>', 'iPhone 15 Pro'),\n",
    "    ('Vivo X80 Pro', '~', 'Samsung S23 FE'),\n",
    "    ('Pixel 8 Pro', '>', 'Pixel 8'),\n",
    "    ('Oneplus 11 5G', '~', 'Vivo X80 Pro'),\n",
    "    ('Samsung S24', '~', 'Samsung S23 FE'),\n",
    "    ('Samsung S24+', '~', 'iPhone 15 Pro Max'),\n",
    "    ('iPhone 15', '>', 'Samsung S24+'),\n",
    "    ('Xiaomi 12 Pro', '>', 'Vivo X80 Pro'),\n",
    "    ('iPhone 15', '>', 'iPhone SE the 3rd'),\n",
    "    ('iPhone 15', '>', 'iPhone 15 Pro'), # inconsistency A > B and B > C and C > A \n",
    "    ('iPhone 15 Pro', '>', 'iPhone 15 Pro Max'),\n",
    "    ('iPhone 15 Pro Max', '>', 'iPhone 15'),\n",
    "    ('iPhone SE the 3rd', '>', 'Samsung S24+'), # inconsistency A > B and B > A\n",
    "    ('Samsung S24+', '>', 'iPhone SE the 3rd')\n",
    "]"
   ]
  },
  {
   "cell_type": "markdown",
   "metadata": {},
   "source": [
    "Preparing the linear program"
   ]
  },
  {
   "cell_type": "code",
   "execution_count": null,
   "metadata": {},
   "outputs": [],
   "source": [
    "import pulp\n",
    "from itertools import pairwise\n",
    "\n",
    "prob = pulp.LpProblem(\"Resolve Inconsistencies\", pulp.LpMinimize)\n",
    "\n",
    "MAX_WEIGHT = 0.5\n",
    "MIN_WEIGHT = 0.1\n",
    "\n",
    "\n",
    "def add_constraints(prob, u_vars):\n",
    "    best_u = []\n",
    "    for i, (c, ctype) in enumerate(zip(df, criteria_types)):\n",
    "        series = sorted(df[c], reverse=bool(ctype))\n",
    "        \n",
    "        # Worst values for certain criteria should be zero\n",
    "        worst = series[0]\n",
    "        worstid = f'u_{i}_{worst}'\n",
    "        if worstid not in u_vars:\n",
    "            u_vars[worstid] = pulp.LpVariable(worstid, lowBound=0, upBound=0)\n",
    "\n",
    "        # Best values for certain criteria should be at most MAX_WEIGHT and sum to 1\n",
    "        best = series[-1]\n",
    "        bestid = f'u_{i}_{best}'\n",
    "        if bestid not in u_vars:\n",
    "            u_vars[bestid] = pulp.LpVariable(bestid, lowBound=MIN_WEIGHT, upBound=MAX_WEIGHT)\n",
    "        best_u.append(u_vars[bestid])\n",
    "\n",
    "        # Monotonicity constraints\n",
    "        for a, b in pairwise(series):\n",
    "            aid = f'u_{i}_{a}'\n",
    "            bid = f'u_{i}_{b}'\n",
    "            if aid not in u_vars:\n",
    "                u_vars[aid] = pulp.LpVariable(aid, lowBound=0, upBound=MAX_WEIGHT)\n",
    "            if bid not in u_vars:\n",
    "                u_vars[bid] = pulp.LpVariable(bid, lowBound=0, upBound=MAX_WEIGHT)\n",
    "            prob += u_vars[aid] <= u_vars[bid]\n",
    "\n",
    "    # Normalization constraint of best values in each criteria\n",
    "    constraint = pulp.LpConstraint(pulp.lpSum(best_u), sense=pulp.LpConstraintEQ, rhs=1)\n",
    "    prob += constraint\n",
    "\n",
    "\n",
    "u_vars = {}\n",
    "add_constraints(prob, u_vars)"
   ]
  },
  {
   "cell_type": "markdown",
   "metadata": {},
   "source": [
    "Non negativity constraints for u already included by setting lowBound to 0\n",
    "\n",
    "# 2.1 Resolving inconsistencies"
   ]
  },
  {
   "cell_type": "code",
   "execution_count": null,
   "metadata": {},
   "outputs": [],
   "source": [
    "binary_variables = []\n",
    "\n",
    "EPSILON = 1e-6\n",
    "\n",
    "for a, ctype, b in preferences:\n",
    "    v_ab = pulp.LpVariable(f'v_{a},{b}', cat=pulp.LpBinary)\n",
    "    binary_variables.append(v_ab)\n",
    "    A = []\n",
    "    for i, v in enumerate(df.loc[a]):\n",
    "        identifier = f\"u_{i}_{v}\"\n",
    "        if identifier not in u_vars:\n",
    "            u_vars[identifier] = pulp.LpVariable(identifier, lowBound=0, upBound=MAX_WEIGHT)\n",
    "        A.append(u_vars[identifier])\n",
    "\n",
    "    B = []\n",
    "    for i, v in enumerate(df.loc[b]):\n",
    "        identifier = f\"u_{i}_{v}\"\n",
    "        if identifier not in u_vars:\n",
    "            u_vars[identifier] = pulp.LpVariable(identifier, lowBound=0, upBound=MAX_WEIGHT)\n",
    "        B.append(u_vars[identifier])\n",
    "\n",
    "    if ctype == '>':\n",
    "        prob += pulp.lpSum(A) >= pulp.lpSum(B) + EPSILON - v_ab\n",
    "    else:\n",
    "        prob += pulp.lpSum(A) >= pulp.lpSum(B) - v_ab\n",
    "        prob += pulp.lpSum(B) >= pulp.lpSum(A) - v_ab\n",
    "\n",
    "prob += pulp.lpSum(binary_variables)"
   ]
  },
  {
   "cell_type": "code",
   "execution_count": null,
   "metadata": {},
   "outputs": [],
   "source": [
    "prob.solve(pulp.PULP_CBC_CMD(msg=0))"
   ]
  },
  {
   "cell_type": "markdown",
   "metadata": {},
   "source": [
    "## Inconsistent comparisons to remove"
   ]
  },
  {
   "cell_type": "code",
   "execution_count": null,
   "metadata": {},
   "outputs": [],
   "source": [
    "consistent_preferences = []\n",
    "for i, v in enumerate(binary_variables):\n",
    "    if v.value() == 1:\n",
    "        print(*preferences[i])\n",
    "    else:\n",
    "        consistent_preferences.append(preferences[i])"
   ]
  },
  {
   "cell_type": "code",
   "execution_count": null,
   "metadata": {},
   "outputs": [],
   "source": [
    "import matplotlib.pyplot as plt\n",
    "\n",
    "def plot_uta(u_vars):\n",
    "    fig, axs = plt.subplots(2, 4, figsize=(20, 10))\n",
    "    plt.subplots_adjust(left=0.1, bottom=0.1, right=0.9, top=0.9, wspace=0.4, hspace=0.4)\n",
    "    axs = axs.flatten()\n",
    "\n",
    "    for i, c in enumerate(df.columns):\n",
    "        axs[i].set_title(c)\n",
    "        minimum = df[c].min()\n",
    "        maximum = df[c].max()\n",
    "        axs[i].set_xlim(minimum, maximum)\n",
    "        axs[i].set_xticks(np.round(np.linspace(minimum, maximum, 6), 2))\n",
    "        axs[i].set_ylim(0, MAX_WEIGHT)\n",
    "        axs[i].set_ylabel(f'u_{i}')\n",
    "        axs[i].set_xlabel(f'g_{i}')\n",
    "\n",
    "\n",
    "        x = sorted(df[c])\n",
    "        y = [u_vars[f'u_{i}_{v}'].value() for v in x]\n",
    "        axs[i].plot(x, y)\n",
    "\n",
    "    axs[7].axis('off')\n",
    "\n",
    "    plt.show()\n",
    "\n",
    "plot_uta(u_vars)"
   ]
  },
  {
   "cell_type": "markdown",
   "metadata": {},
   "source": [
    "## Finding all other subsets of comparisons to remove to achieve consistency"
   ]
  },
  {
   "cell_type": "code",
   "execution_count": null,
   "metadata": {},
   "outputs": [],
   "source": [
    "count = 0\n",
    "while True:\n",
    "    ones = list(filter(lambda v: v.value() == 1, binary_variables))\n",
    "    new_constraint = pulp.lpSum(ones) <= len(ones) - 1 \n",
    "    prob += new_constraint\n",
    "    prob.solve(pulp.PULP_CBC_CMD(msg=0))\n",
    "\n",
    "    if prob.sol_status != 1:\n",
    "        break\n",
    "\n",
    "\n",
    "    print('Criteria to remove:')\n",
    "    for i, v in enumerate(binary_variables):\n",
    "        if v.value() == 1:\n",
    "            print('-', *preferences[i])\n",
    "    plot_uta(u_vars)\n",
    "    count += 1"
   ]
  },
  {
   "cell_type": "code",
   "execution_count": null,
   "metadata": {},
   "outputs": [],
   "source": [
    "print(count + 1)"
   ]
  },
  {
   "cell_type": "markdown",
   "metadata": {},
   "source": [
    "## Discuss the results\n",
    "As you can see there are 10 ways to remove comparisions to make the data consistent. Algorithm works as expected, weights of criteria do sum to 1 and non of the weights is smaller than the threshold we have set at the beggining (0.1)."
   ]
  },
  {
   "cell_type": "markdown",
   "metadata": {},
   "source": [
    "# 2.2 - Minimize sum of over and under estimation errors"
   ]
  },
  {
   "cell_type": "code",
   "execution_count": null,
   "metadata": {},
   "outputs": [],
   "source": [
    "prob = pulp.LpProblem(\"Minimize sum of over and under estimation errors\", pulp.LpMinimize)\n",
    "\n",
    "u_vars = {}\n",
    "add_constraints(prob, u_vars)\n",
    "\n",
    "under_estimation_vars = {}\n",
    "over_estimation_vars = {}\n",
    "EPSILON = 1e-6\n",
    "\n",
    "for a, ctype, b in consistent_preferences:\n",
    "    for x in [a,b]:\n",
    "        x_str = str(x)\n",
    "        if x_str not in under_estimation_vars:\n",
    "            under_estimation_vars[x_str] = pulp.LpVariable(f'under_{x_str}', lowBound=0)\n",
    "        if x not in over_estimation_vars:\n",
    "            over_estimation_vars[x_str] = pulp.LpVariable(f'over_{x_str}', lowBound=0)\n",
    "\n",
    "    A = []\n",
    "    for i, v in enumerate(df.loc[a]):\n",
    "        identifier = f\"u_{i}_{v}\"\n",
    "        if identifier not in u_vars:\n",
    "            u_vars[identifier] = pulp.LpVariable(identifier, lowBound=0, upBound=MAX_WEIGHT)\n",
    "        A.append(u_vars[identifier])\n",
    "\n",
    "    B = []\n",
    "    for i, v in enumerate(df.loc[b]):\n",
    "        identifier = f\"u_{i}_{v}\"\n",
    "        if identifier not in u_vars:\n",
    "            u_vars[identifier] = pulp.LpVariable(identifier, lowBound=0, upBound=MAX_WEIGHT)\n",
    "        B.append(u_vars[identifier])\n",
    "\n",
    "    sumA = pulp.lpSum(A) - over_estimation_vars[str(a)] + under_estimation_vars[str(a)]\n",
    "    sumB = pulp.lpSum(B) - over_estimation_vars[str(b)] + under_estimation_vars[str(b)]\n",
    "\n",
    "    if ctype == '>':\n",
    "        prob += sumA >= sumB + EPSILON\n",
    "    else:\n",
    "        prob += pulp.LpConstraint(sumA - sumB, sense=pulp.LpConstraintEQ , rhs=0)\n",
    "\n",
    "prob += pulp.lpSum(under_estimation_vars) + pulp.lpSum(over_estimation_vars)\n",
    "prob.solve()"
   ]
  },
  {
   "cell_type": "code",
   "execution_count": null,
   "metadata": {},
   "outputs": [],
   "source": [
    "plot_uta(u_vars=u_vars)"
   ]
  },
  {
   "cell_type": "markdown",
   "metadata": {},
   "source": [
    "Value of the objective function"
   ]
  },
  {
   "cell_type": "code",
   "execution_count": null,
   "metadata": {},
   "outputs": [],
   "source": [
    "prob.objective.value()"
   ]
  },
  {
   "cell_type": "markdown",
   "metadata": {},
   "source": [
    "## Discuss the results"
   ]
  }
 ],
 "metadata": {
  "kernelspec": {
   "display_name": "ir",
   "language": "python",
   "name": "python3"
  },
  "language_info": {
   "codemirror_mode": {
    "name": "ipython",
    "version": 3
   },
   "file_extension": ".py",
   "mimetype": "text/x-python",
   "name": "python",
   "nbconvert_exporter": "python",
   "pygments_lexer": "ipython3",
   "version": "3.11.5"
  }
 },
 "nbformat": 4,
 "nbformat_minor": 2
}
