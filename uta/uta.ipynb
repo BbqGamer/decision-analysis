{
 "cells": [
  {
   "cell_type": "code",
   "execution_count": null,
   "metadata": {},
   "outputs": [],
   "source": [
    "import csv\n",
    "import numpy as np\n",
    "import pandas as pd\n",
    "\n",
    "header = []\n",
    "ids = []\n",
    "data = []\n",
    "with open(\"../data.csv\", \"r\") as f:\n",
    "    reader = csv.reader(f)\n",
    "    header = next(reader)[1:]\n",
    "    for row in reader:\n",
    "        name = row[0]\n",
    "        ids.append(name)\n",
    "        data.append(list(map(float, row[1:])))\n",
    "\n",
    "df = pd.DataFrame(data, columns=header)\n",
    "df['name'] = ids\n",
    "df = df.set_index('name')\n",
    "df"
   ]
  },
  {
   "cell_type": "code",
   "execution_count": null,
   "metadata": {},
   "outputs": [],
   "source": [
    "GAIN = 0\n",
    "COST = 1\n",
    "criteria_types = [GAIN, GAIN, GAIN, GAIN, GAIN, COST, COST]"
   ]
  },
  {
   "cell_type": "markdown",
   "metadata": {},
   "source": [
    "# Preferencial information"
   ]
  },
  {
   "cell_type": "code",
   "execution_count": null,
   "metadata": {},
   "outputs": [],
   "source": [
    "preferences = [\n",
    "    ('Samsung Galaxy S22 Ultra', '~', 'Pixel 7'),\n",
    "    ('Samsung Galaxy S22 Ultra' , '>', 'Samsung S24+'),\n",
    "    ('Pixel 7', '>', 'Pixel 8'),\n",
    "    ('Samsung S24 Ultra', '~', 'iPhone 15 Pro Max'),\n",
    "    ('Samsung S23 FE', '>', 'iPhone 15 Pro'),\n",
    "    ('Vivo X80 Pro', '~', 'Samsung S23 FE'),\n",
    "    ('Pixel 8 Pro', '~', 'Pixel 8'),\n",
    "    ('iPhone 15', '>', 'iPhone 15 Pro'), # inconsistency A > B and B > C and C > A \n",
    "    ('iPhone 15 Pro', '>', 'iPhone 15 Pro Max'),\n",
    "    ('iPhone 15 Pro Max', '>', 'iPhone 15'),\n",
    "    ('iPhone SE the 3rd', '>', 'Samsung S24+'), # inconsistency A > B and B > A\n",
    "    ('Samsung S24+', '>', 'iPhone SE the 3rd')\n",
    "]"
   ]
  },
  {
   "cell_type": "code",
   "execution_count": null,
   "metadata": {},
   "outputs": [],
   "source": [
    "import pulp\n",
    "from itertools import pairwise\n",
    "\n",
    "prob = pulp.LpProblem(\"Resolve Inconsistencies\", pulp.LpMinimize)\n",
    "\n",
    "MAX_WEIGHT = 0.5\n",
    "MIN_WEIGHT = 0.05\n",
    "\n",
    "u_vars = {}\n",
    "best_u = []\n",
    "for i, (c, ctype) in enumerate(zip(df, criteria_types)):\n",
    "    series = sorted(df[c], reverse=bool(ctype))\n",
    "    \n",
    "    # Worst values for certain criteria should be zero\n",
    "    worst = series[0]\n",
    "    worstid = f'u_{i}_{worst}'\n",
    "    if worstid not in u_vars:\n",
    "        u_vars[worstid] = pulp.LpVariable(worstid, lowBound=0, upBound=0)\n",
    "\n",
    "    # Best values for certain criteria should be at most MAX_WEIGHT and sum to 1\n",
    "    best = series[-1]\n",
    "    bestid = f'u_{i}_{best}'\n",
    "    if bestid not in u_vars:\n",
    "        u_vars[bestid] = pulp.LpVariable(bestid, lowBound=MIN_WEIGHT, upBound=MAX_WEIGHT)\n",
    "    best_u.append(u_vars[bestid])\n",
    "\n",
    "    # Monotonicity constraints\n",
    "    for a, b in pairwise(series):\n",
    "        aid = f'u_{i}_{a}'\n",
    "        bid = f'u_{i}_{b}'\n",
    "        if aid not in u_vars:\n",
    "            u_vars[aid] = pulp.LpVariable(aid, lowBound=0, upBound=MAX_WEIGHT)\n",
    "        if bid not in u_vars:\n",
    "            u_vars[bid] = pulp.LpVariable(bid, lowBound=0, upBound=MAX_WEIGHT)\n",
    "        prob += u_vars[aid] <= u_vars[bid]\n",
    "\n",
    "# Normalization constraint of best values in each criteria\n",
    "constraint = pulp.LpConstraint(pulp.lpSum(best_u), sense=pulp.LpConstraintEQ, rhs=1)\n",
    "prob += constraint"
   ]
  },
  {
   "cell_type": "markdown",
   "metadata": {},
   "source": [
    "Non negativity constraints for u already included by setting lowBound to 0\n",
    "\n",
    "## Resolving inconsistencies"
   ]
  },
  {
   "cell_type": "code",
   "execution_count": null,
   "metadata": {},
   "outputs": [],
   "source": [
    "binary_variables = []\n",
    "\n",
    "EPSILON = 1e-6\n",
    "\n",
    "for a, ctype, b in preferences:\n",
    "    v_ab = pulp.LpVariable(f'v_{a},{b}', cat=pulp.LpBinary)\n",
    "    binary_variables.append(v_ab)\n",
    "    A = []\n",
    "    for i, v in enumerate(df.loc[a]):\n",
    "        identifier = f\"u_{i}_{v}\"\n",
    "        if identifier not in u_vars:\n",
    "            u_vars[identifier] = pulp.LpVariable(identifier, lowBound=0, upBound=MAX_WEIGHT)\n",
    "        A.append(u_vars[identifier])\n",
    "\n",
    "    B = []\n",
    "    for i, v in enumerate(df.loc[b]):\n",
    "        identifier = f\"u_{i}_{v}\"\n",
    "        if identifier not in u_vars:\n",
    "            u_vars[identifier] = pulp.LpVariable(identifier, lowBound=0, upBound=MAX_WEIGHT)\n",
    "        B.append(u_vars[identifier])\n",
    "\n",
    "    if ctype == '>':\n",
    "        prob += pulp.lpSum(A) >= pulp.lpSum(B) + EPSILON - v_ab\n",
    "    else:\n",
    "        prob += pulp.lpSum(A) >= pulp.lpSum(B) - v_ab\n",
    "        prob += pulp.lpSum(B) >= pulp.lpSum(A) - v_ab\n",
    "\n",
    "prob += pulp.lpSum(binary_variables)"
   ]
  },
  {
   "cell_type": "code",
   "execution_count": null,
   "metadata": {},
   "outputs": [],
   "source": [
    "prob.solve()"
   ]
  },
  {
   "cell_type": "markdown",
   "metadata": {},
   "source": [
    "Inconsistent comparisons to remove"
   ]
  },
  {
   "cell_type": "code",
   "execution_count": null,
   "metadata": {},
   "outputs": [],
   "source": [
    "for i, v in enumerate(binary_variables):\n",
    "    if v.value() == 1:\n",
    "        print(*preferences[i])"
   ]
  }
 ],
 "metadata": {
  "kernelspec": {
   "display_name": "ir",
   "language": "python",
   "name": "python3"
  },
  "language_info": {
   "codemirror_mode": {
    "name": "ipython",
    "version": 3
   },
   "file_extension": ".py",
   "mimetype": "text/x-python",
   "name": "python",
   "nbconvert_exporter": "python",
   "pygments_lexer": "ipython3",
   "version": "3.11.5"
  }
 },
 "nbformat": 4,
 "nbformat_minor": 2
}
